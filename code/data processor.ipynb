{
 "cells": [
  {
   "cell_type": "code",
   "execution_count": 1,
   "metadata": {
    "metadata": {}
   },
   "outputs": [],
   "source": [
    "import csv\n",
    "import json\n",
    "import hashlib\n",
    "import tkinter as tk\n",
    "from tkinter import simpledialog, messagebox"
   ]
  },
  {
   "cell_type": "code",
   "execution_count": 2,
   "metadata": {
    "metadata": {}
   },
   "outputs": [],
   "source": [
    "def make_id(ascii_art, type_field, length=8):\n",
    "    # Deterministic: hash of ascii_art + type_field, avoids collisions and easy to trace\n",
    "    h = hashlib.sha256((ascii_art + type_field).encode('utf-8')).hexdigest()\n",
    "    return f\"{type_field}_{h[:length]}\"\n",
    "\n",
    "def json_escape(text):\n",
    "    return json.dumps(text)[1:-1]  # Strip quotes\n",
    "\n",
    "def append_to_csv(row, csv_file='../data/ASCII_dict.csv'):\n",
    "    # Append a row, add header if file does not exist\n",
    "    import os\n",
    "    file_exists = os.path.isfile(csv_file)\n",
    "    with open(csv_file, 'a', newline='', encoding='utf-8') as f:\n",
    "        writer = csv.DictWriter(f, fieldnames=['id', 'ASCII_art', 'type', 'expected_feature'], quoting=csv.QUOTE_ALL)\n",
    "        if not file_exists:\n",
    "            writer.writeheader()\n",
    "        writer.writerow(row)\n",
    "\n",
    "def input_gui():\n",
    "    root = tk.Tk()\n",
    "    root.withdraw()  # Hide the main window\n",
    "\n",
    "    # Multiline ASCII input\n",
    "    ascii_art = simpledialog.askstring(\"ASCII Art Entry\", \"Paste your ASCII art (multiline supported):\")\n",
    "    if not ascii_art:\n",
    "        messagebox.showerror(\"Error\", \"No ASCII art entered.\")\n",
    "        return\n",
    "\n",
    "    # Type selection\n",
    "    type_choices = [\"kaomoji\", \"multiline_ascii\", \"noise\"]\n",
    "    type_field = simpledialog.askstring(\"Type Entry\", f\"Enter type ({'/'.join(type_choices)}):\")\n",
    "    if not type_field or type_field not in type_choices:\n",
    "        messagebox.showerror(\"Error\", f\"Type must be one of: {', '.join(type_choices)}.\")\n",
    "        return\n",
    "\n",
    "    # Feature input\n",
    "    features = simpledialog.askstring(\"Features\", \"Enter expected features (separated by '|'):\")\n",
    "    if not features:\n",
    "        messagebox.showerror(\"Error\", \"No features entered.\")\n",
    "        return\n",
    "\n",
    "    # Build row\n",
    "    row = {\n",
    "        \"id\": make_id(ascii_art, type_field),\n",
    "        \"ASCII_art\": json_escape(ascii_art),\n",
    "        \"type\": type_field,\n",
    "        \"expected_feature\": features\n",
    "    }\n",
    "    append_to_csv(row)\n",
    "    messagebox.showinfo(\"Done\", f\"Entry added to ASCII_dict.csv:\\n\\n{row}\")\n",
    "\n",
    "if __name__ == \"__main__\":\n",
    "    input_gui()\n"
   ]
  }
 ],
 "metadata": {
  "kernelspec": {
   "display_name": "Python 3",
   "language": "python",
   "name": "python3"
  },
  "language_info": {
   "codemirror_mode": {
    "name": "ipython",
    "version": 3
   },
   "file_extension": ".py",
   "mimetype": "text/x-python",
   "name": "python",
   "nbconvert_exporter": "python",
   "pygments_lexer": "ipython3",
   "version": "3.11.4"
  }
 },
 "nbformat": 4,
 "nbformat_minor": 2
}
